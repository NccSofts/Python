{
 "cells": [
  {
   "cell_type": "code",
   "execution_count": null,
   "metadata": {},
   "outputs": [],
   "source": [
    "import MaisProxima\n",
    "\n",
    "email_subject = 'Subject'\n",
    "email_body = 'Body'\n",
    "email_to_email = ['siegmar.gieseler@siegmar.com.br'] # , '' ]\n",
    "\n",
    "#MaisProxima.email(email_subject, email_body, email_to_email)"
   ]
  }
 ],
 "metadata": {
  "language_info": {
   "codemirror_mode": {
    "name": "ipython",
    "version": 3
   },
   "file_extension": ".py",
   "mimetype": "text/x-python",
   "name": "python",
   "nbconvert_exporter": "python",
   "pygments_lexer": "ipython3",
   "version": 3
  },
  "orig_nbformat": 2
 },
 "nbformat": 4,
 "nbformat_minor": 2
}