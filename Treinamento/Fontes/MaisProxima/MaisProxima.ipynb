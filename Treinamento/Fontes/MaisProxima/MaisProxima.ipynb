{
 "cells": [
  {
   "cell_type": "code",
   "execution_count": null,
   "metadata": {},
   "outputs": [],
   "source": [
    "import MaisProxima\n",
    "\n",
    "email_subject = 'Subject'\n",
    "email_body = 'Body'\n",
    "email_to_email = ['siegmar.gieseler@siegmar.com.br'] # , '' ]\n",
    "\n",
    "#MaisProxima.email(email_subject, email_body, email_to_email)"
   ]
  }
 ],
 "metadata": {
  "kernelspec": {
   "display_name": "Python 3",
   "language": "python",
   "name": "python3"
  },
  "language_info": {
   "codemirror_mode": {
    "name": "ipython",
    "version": 3
   },
   "file_extension": ".py",
   "mimetype": "text/x-python",
   "name": "python",
   "nbconvert_exporter": "python",
   "pygments_lexer": "ipython3",
   "version": "3.8.2"
  }
 },
 "nbformat": 4,
 "nbformat_minor": 4
}
